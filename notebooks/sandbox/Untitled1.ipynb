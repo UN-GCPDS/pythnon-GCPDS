{
 "cells": [
  {
   "cell_type": "code",
   "execution_count": 1,
   "metadata": {},
   "outputs": [],
   "source": [
    "from gcpds.utils import loaddb"
   ]
  },
  {
   "cell_type": "code",
   "execution_count": 2,
   "metadata": {},
   "outputs": [],
   "source": [
    "db = loaddb.BCI2a('BCI2a_database')"
   ]
  },
  {
   "cell_type": "code",
   "execution_count": 3,
   "metadata": {},
   "outputs": [],
   "source": []
  },
  {
   "cell_type": "code",
   "execution_count": 15,
   "metadata": {},
   "outputs": [
    {
     "name": "stdout",
     "output_type": "stream",
     "text": [
      "[  0.43945312   3.46679688  -1.51367188 ... -16.6015625  -16.16210938\n",
      " -22.75390625]\n"
     ]
    }
   ],
   "source": [
    "db.load_subject(1, mode='training')\n",
    "run, classes = db.get_run(0)\n",
    "run.shape, classes.shape\n",
    "\n",
    "print(run[0][0])"
   ]
  },
  {
   "cell_type": "code",
   "execution_count": 16,
   "metadata": {},
   "outputs": [
    {
     "name": "stdout",
     "output_type": "stream",
     "text": [
      "[-3.125      -3.27148438 -4.63867188 ... -1.80664062  4.34570312\n",
      "  3.80859375]\n"
     ]
    }
   ],
   "source": [
    "db.load_subject(1, mode='evaluation')\n",
    "run, classes = db.get_run(0)\n",
    "run.shape, classes.shape\n",
    "\n",
    "print(run[0][0])"
   ]
  }
 ],
 "metadata": {
  "kernelspec": {
   "display_name": "Python 3",
   "language": "python",
   "name": "python3"
  },
  "language_info": {
   "codemirror_mode": {
    "name": "ipython",
    "version": 3
   },
   "file_extension": ".py",
   "mimetype": "text/x-python",
   "name": "python",
   "nbconvert_exporter": "python",
   "pygments_lexer": "ipython3",
   "version": "3.8.5"
  }
 },
 "nbformat": 4,
 "nbformat_minor": 4
}
